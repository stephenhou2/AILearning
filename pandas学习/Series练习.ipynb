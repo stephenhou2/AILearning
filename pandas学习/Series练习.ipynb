{
 "cells": [
  {
   "cell_type": "code",
   "id": "initial_id",
   "metadata": {
    "collapsed": true,
    "ExecuteTime": {
     "end_time": "2025-10-04T01:37:01.042995Z",
     "start_time": "2025-10-04T01:37:01.034993Z"
    }
   },
   "source": [
    "import numpy as np\n",
    "import pandas as pd\n",
    "\n",
    "np.random.seed(10)\n",
    "scores = pd.Series(np.random.randint(51,100,10),index=['学生'+ str(i) for i in range(1,11)])\n",
    "\n",
    "mean_score = scores.mean()\n",
    "print(\"平均分：\",mean_score)\n",
    "max_score = scores.max()\n",
    "print(\"最高分：\",max_score)\n",
    "min_score = scores.min()\n",
    "print(\"最低分：\",min_score)\n",
    "num = len(scores[scores > mean_score])\n",
    "print(\"高于平均分人数：\",num)\n",
    "\n",
    "\n"
   ],
   "outputs": [
    {
     "name": "stdout",
     "output_type": "stream",
     "text": [
      "平均分： 73.7\n",
      "最高分： 99\n",
      "最低分： 51\n",
      "学生2    87\n",
      "学生5    79\n",
      "学生6    76\n",
      "学生7    80\n",
      "学生8    99\n",
      "学生9    80\n",
      "dtype: int32\n",
      "高于平均分人数： 6\n"
     ]
    }
   ],
   "execution_count": 3
  }
 ],
 "metadata": {
  "kernelspec": {
   "display_name": "Python 3",
   "language": "python",
   "name": "python3"
  },
  "language_info": {
   "codemirror_mode": {
    "name": "ipython",
    "version": 2
   },
   "file_extension": ".py",
   "mimetype": "text/x-python",
   "name": "python",
   "nbconvert_exporter": "python",
   "pygments_lexer": "ipython2",
   "version": "2.7.6"
  }
 },
 "nbformat": 4,
 "nbformat_minor": 5
}
