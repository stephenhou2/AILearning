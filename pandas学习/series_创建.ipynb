{
 "cells": [
  {
   "metadata": {
    "collapsed": true
   },
   "cell_type": "markdown",
   "source": "# 创建series(一维数组)",
   "id": "d4cb8bc48e7250f3"
  },
  {
   "metadata": {
    "ExecuteTime": {
     "end_time": "2025-09-30T00:09:35.785618Z",
     "start_time": "2025-09-30T00:09:35.655765Z"
    }
   },
   "cell_type": "code",
   "source": [
    "import pandas as pd\n",
    "\n",
    "# 直接创建\n",
    "s = pd.Series(['a','b','c','d','e','f'])\n",
    "print(s)\n",
    "\n",
    "# 通过index筛选，返回一个新数列\n",
    "print(pd.Series(s,[1,3]))\n",
    "\n",
    "# 通过字典形式创建\n",
    "s = pd.Series({\"a\":1,\"b\":2,\"c\":3,\"d\":4,\"e\":5,\"f\":6},name='test')\n",
    "print(s)\n",
    "\n",
    "# 通过index筛选，返回一个新数列\n",
    "print(pd.Series(s,[\"a\",\"c\"]))\n"
   ],
   "id": "d6fba30ca602bd0b",
   "outputs": [
    {
     "name": "stdout",
     "output_type": "stream",
     "text": [
      "0    a\n",
      "1    b\n",
      "2    c\n",
      "3    d\n",
      "4    e\n",
      "5    f\n",
      "dtype: object\n",
      "1    b\n",
      "3    d\n",
      "dtype: object\n",
      "a    1\n",
      "b    2\n",
      "c    3\n",
      "d    4\n",
      "e    5\n",
      "dtype: int64\n",
      "a    1\n",
      "c    3\n",
      "dtype: int64\n"
     ]
    }
   ],
   "execution_count": 4
  },
  {
   "metadata": {},
   "cell_type": "markdown",
   "source": "# Series中的基本属性",
   "id": "e3a3f2ee4f9fa6e5"
  },
  {
   "metadata": {
    "ExecuteTime": {
     "end_time": "2025-09-30T00:35:13.422965Z",
     "start_time": "2025-09-30T00:35:13.406741Z"
    }
   },
   "cell_type": "code",
   "source": [
    "# 获取Series的索引对象\n",
    "print(s.index)\n",
    "\n",
    "# 获取Series的值对象\n",
    "print(s.values)\n",
    "\n",
    "# 获取Series的形状，维度，大小\n",
    "print(s.shape,s.ndim, s.size)\n",
    "\n",
    "# 获取Series的数据类型，名称\n",
    "print(s.dtype, s.name)\n",
    "\n",
    "print(\"==========================================\")\n",
    "\n",
    "# 使用显示索引获取切片\n",
    "print(s.loc[\"a\":\"c\"])\n",
    "#使用隐式索引（默认生成的index）获取切片\n",
    "print(s.iloc[0:2])\n",
    "print(\"==========================================\")\n",
    "# 获取指定位置的元素（不支持切片）\n",
    "print(s.at[\"a\"])\n",
    "print(s.iat[1])\n",
    "# 直接通过索引获取元素\n",
    "print(s['a'])\n",
    "# print(s[1]) 使用隐式索引直接获取也能拿到元素，但是因为和自定义index可能存在混淆，所以会抱一个警告，不建议自定义标签下使用\n",
    "print(\"==========================================\")\n",
    "print(s[s<3])\n",
    "print(\"==========================================\")\n",
    "# 获取前3行数据，不传参默认5行\n",
    "print(s.head(3))\n",
    "\n",
    "# 获取后五行数据\n",
    "print(s.tail())\n"
   ],
   "id": "3a378f97b59e897f",
   "outputs": [
    {
     "name": "stdout",
     "output_type": "stream",
     "text": [
      "Index(['a', 'b', 'c', 'd', 'e'], dtype='object')\n",
      "[1 2 3 4 5]\n",
      "(5,) 1 5\n",
      "int64 None\n",
      "==========================================\n",
      "a    1\n",
      "b    2\n",
      "c    3\n",
      "dtype: int64\n",
      "a    1\n",
      "b    2\n",
      "dtype: int64\n",
      "==========================================\n",
      "1\n",
      "2\n",
      "1\n",
      "==========================================\n",
      "a    1\n",
      "b    2\n",
      "dtype: int64\n",
      "==========================================\n",
      "a    1\n",
      "b    2\n",
      "c    3\n",
      "dtype: int64\n",
      "a    1\n",
      "b    2\n",
      "c    3\n",
      "d    4\n",
      "e    5\n",
      "dtype: int64\n"
     ]
    }
   ],
   "execution_count": 23
  }
 ],
 "metadata": {
  "kernelspec": {
   "display_name": "Python 3",
   "language": "python",
   "name": "python3"
  },
  "language_info": {
   "codemirror_mode": {
    "name": "ipython",
    "version": 2
   },
   "file_extension": ".py",
   "mimetype": "text/x-python",
   "name": "python",
   "nbconvert_exporter": "python",
   "pygments_lexer": "ipython2",
   "version": "2.7.6"
  }
 },
 "nbformat": 4,
 "nbformat_minor": 5
}
