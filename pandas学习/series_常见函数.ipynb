{
 "cells": [
  {
   "cell_type": "code",
   "id": "initial_id",
   "metadata": {
    "collapsed": true,
    "ExecuteTime": {
     "end_time": "2025-10-04T01:48:29.934402Z",
     "start_time": "2025-10-04T01:48:29.606727Z"
    }
   },
   "source": [
    "import pandas as pd\n",
    "import numpy as np\n",
    "\n",
    "# Series 创建\n",
    "s = pd.Series([1,2,3,np.nan, None, 4,5],['a','b','c','d','e','f','g'])\n",
    "print(s)\n",
    "\n",
    "print(s.head())\n",
    "print(s.tail())"
   ],
   "outputs": [
    {
     "name": "stdout",
     "output_type": "stream",
     "text": [
      "a    1.0\n",
      "b    2.0\n",
      "c    3.0\n",
      "d    NaN\n",
      "e    NaN\n",
      "f    4.0\n",
      "g    5.0\n",
      "dtype: float64\n",
      "a    1.0\n",
      "b    2.0\n",
      "c    3.0\n",
      "d    NaN\n",
      "e    NaN\n",
      "dtype: float64\n",
      "c    3.0\n",
      "d    NaN\n",
      "e    NaN\n",
      "f    4.0\n",
      "g    5.0\n",
      "dtype: float64\n"
     ]
    }
   ],
   "execution_count": 2
  },
  {
   "metadata": {
    "ExecuteTime": {
     "end_time": "2025-10-04T01:48:29.961084Z",
     "start_time": "2025-10-04T01:48:29.940409Z"
    }
   },
   "cell_type": "code",
   "source": [
    "# 查看所有的描述性信息\n",
    "print(s.describe())\n",
    "\n",
    "# 获取元素总个数（会忽略缺失值）\n",
    "print(s.count())\n",
    "\n",
    "# 获取索引\n",
    "print(s.keys())\n",
    "print(s.index)\n",
    "\n",
    "# 逐个检查元素是否是缺失值\n",
    "print(s.isna())\n",
    "\n",
    "# 逐个查看元素是否在参数结合中\n",
    "print(s.isin([4,5]))"
   ],
   "id": "c196875dac798e50",
   "outputs": [
    {
     "name": "stdout",
     "output_type": "stream",
     "text": [
      "count    5.000000\n",
      "mean     3.000000\n",
      "std      1.581139\n",
      "min      1.000000\n",
      "25%      2.000000\n",
      "50%      3.000000\n",
      "75%      4.000000\n",
      "max      5.000000\n",
      "dtype: float64\n",
      "5\n",
      "Index(['a', 'b', 'c', 'd', 'e', 'f', 'g'], dtype='object')\n",
      "Index(['a', 'b', 'c', 'd', 'e', 'f', 'g'], dtype='object')\n",
      "a    False\n",
      "b    False\n",
      "c    False\n",
      "d     True\n",
      "e     True\n",
      "f    False\n",
      "g    False\n",
      "dtype: bool\n",
      "a    False\n",
      "b    False\n",
      "c    False\n",
      "d    False\n",
      "e    False\n",
      "f     True\n",
      "g     True\n",
      "dtype: bool\n"
     ]
    }
   ],
   "execution_count": 3
  },
  {
   "metadata": {
    "ExecuteTime": {
     "end_time": "2025-10-04T01:48:30.008984Z",
     "start_time": "2025-10-04T01:48:29.978092Z"
    }
   },
   "cell_type": "code",
   "source": [
    "# 获取平均值\n",
    "print(s.mean())\n",
    "\n",
    "# 获取标准差\n",
    "print(s.std())\n",
    "\n",
    "# 获取方差\n",
    "print(s.var())\n",
    "\n",
    "# 获取中位数\n",
    "print(s.median())\n",
    "\n",
    "# 最小值\n",
    "print(s.min())\n",
    "\n",
    "# 最大值\n",
    "print(s.max())\n",
    "\n",
    "# 百分位数\n",
    "print(s.quantile(0.25))\n",
    "\n",
    "# 众数\n",
    "print(s.mode())"
   ],
   "id": "3f02351ceca94d61",
   "outputs": [
    {
     "name": "stdout",
     "output_type": "stream",
     "text": [
      "3.0\n",
      "1.5811388300841898\n",
      "2.5\n",
      "3.0\n",
      "1.0\n",
      "5.0\n",
      "2.0\n",
      "0    1.0\n",
      "1    2.0\n",
      "2    3.0\n",
      "3    4.0\n",
      "4    5.0\n",
      "dtype: float64\n"
     ]
    }
   ],
   "execution_count": 4
  },
  {
   "metadata": {
    "ExecuteTime": {
     "end_time": "2025-10-04T01:48:30.063696Z",
     "start_time": "2025-10-04T01:48:30.015991Z"
    }
   },
   "cell_type": "code",
   "source": [
    "# 排序\n",
    "print(s.sort_values())\n",
    "\n",
    "# 元素计数（已做过排序）\n",
    "print(s.value_counts())\n",
    "\n",
    "# 去重（返回Series)\n",
    "print(s.drop_duplicates())\n",
    "# 去重（返回list）\n",
    "print(s.unique())\n",
    "# 计算后一个元素和前一个元素的差值\n",
    "print(s.diff())"
   ],
   "id": "c0c457fef448e7a9",
   "outputs": [
    {
     "name": "stdout",
     "output_type": "stream",
     "text": [
      "a    1.0\n",
      "b    2.0\n",
      "c    3.0\n",
      "f    4.0\n",
      "g    5.0\n",
      "d    NaN\n",
      "e    NaN\n",
      "dtype: float64\n",
      "1.0    1\n",
      "2.0    1\n",
      "3.0    1\n",
      "4.0    1\n",
      "5.0    1\n",
      "Name: count, dtype: int64\n",
      "a    1.0\n",
      "b    2.0\n",
      "c    3.0\n",
      "d    NaN\n",
      "f    4.0\n",
      "g    5.0\n",
      "dtype: float64\n",
      "[ 1.  2.  3. nan  4.  5.]\n",
      "a    NaN\n",
      "b    1.0\n",
      "c    1.0\n",
      "d    NaN\n",
      "e    NaN\n",
      "f    NaN\n",
      "g    1.0\n",
      "dtype: float64\n"
     ]
    }
   ],
   "execution_count": 5
  }
 ],
 "metadata": {
  "kernelspec": {
   "display_name": "Python 3",
   "language": "python",
   "name": "python3"
  },
  "language_info": {
   "codemirror_mode": {
    "name": "ipython",
    "version": 2
   },
   "file_extension": ".py",
   "mimetype": "text/x-python",
   "name": "python",
   "nbconvert_exporter": "python",
   "pygments_lexer": "ipython2",
   "version": "2.7.6"
  }
 },
 "nbformat": 4,
 "nbformat_minor": 5
}
