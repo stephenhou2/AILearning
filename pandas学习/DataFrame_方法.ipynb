{
 "cells": [
  {
   "cell_type": "code",
   "id": "initial_id",
   "metadata": {
    "collapsed": true,
    "ExecuteTime": {
     "end_time": "2025-10-01T07:50:31.724390Z",
     "start_time": "2025-10-01T07:50:31.707649Z"
    }
   },
   "source": [
    "import pandas as pd\n",
    "import numpy as np\n",
    "\n",
    "df = pd.DataFrame({\n",
    "    \"id\":[1,2,3,1,5],\n",
    "    \"name\":[\"张三\",\"李四\",\"王五\",\"张三\",\"王物流\"],\n",
    "    \"age\":[10,20,30,10,50]\n",
    "},index=['a','b','c','d','e'],columns=['id','age','name'])\n",
    "\n",
    "\n",
    "\n",
    "print(df.head())\n",
    "print(df.head(2))\n",
    "print(df.tail())\n",
    "print(df.tail(2))\n",
    "\n",
    "\n",
    "# 随机取样\n",
    "print(df.sample(3))\n",
    "\n",
    "# 判断元素是否在集合里，注意这里是逐个元素判断，不是按行/列判断\n",
    "print(df.isin(['张三',10]))\n",
    "\n",
    "\n",
    "print(df.age.sum())\n",
    "print(df.age.max())\n",
    "print(df.age.min())\n",
    "print(df.age.mean())\n",
    "print(df.age.median())\n",
    "print(df.age.mode())\n",
    "print(df.age.std())\n",
    "print(df.age.var())\n",
    "print(df.describe())"
   ],
   "outputs": [
    {
     "name": "stdout",
     "output_type": "stream",
     "text": [
      "   id  age name\n",
      "a   1   10   张三\n",
      "b   2   20   李四\n",
      "c   3   30   王五\n",
      "d   1   10   张三\n",
      "e   5   50  王物流\n",
      "   id  age name\n",
      "a   1   10   张三\n",
      "b   2   20   李四\n",
      "   id  age name\n",
      "a   1   10   张三\n",
      "b   2   20   李四\n",
      "c   3   30   王五\n",
      "d   1   10   张三\n",
      "e   5   50  王物流\n",
      "   id  age name\n",
      "d   1   10   张三\n",
      "e   5   50  王物流\n",
      "   id  age name\n",
      "d   1   10   张三\n",
      "a   1   10   张三\n",
      "b   2   20   李四\n",
      "      id    age   name\n",
      "a  False   True   True\n",
      "b  False  False  False\n",
      "c  False  False  False\n",
      "d  False   True   True\n",
      "e  False  False  False\n",
      "120\n",
      "50\n",
      "10\n",
      "24.0\n",
      "20.0\n",
      "0    10\n",
      "Name: age, dtype: int64\n",
      "16.73320053068151\n",
      "280.0\n",
      "            id        age\n",
      "count  5.00000   5.000000\n",
      "mean   2.40000  24.000000\n",
      "std    1.67332  16.733201\n",
      "min    1.00000  10.000000\n",
      "25%    1.00000  10.000000\n",
      "50%    2.00000  20.000000\n",
      "75%    3.00000  30.000000\n",
      "max    5.00000  50.000000\n"
     ]
    }
   ],
   "execution_count": 14
  },
  {
   "metadata": {
    "ExecuteTime": {
     "end_time": "2025-10-01T07:56:27.631276Z",
     "start_time": "2025-10-01T07:56:27.617734Z"
    }
   },
   "cell_type": "code",
   "source": [
    "# 每一列非缺失值的数量\n",
    "print(df.count())\n",
    "# 按行统计出现的次数（如果两行数据一样则会统计在一起）\n",
    "print(df.value_counts())\n",
    "# 去重\n",
    "print(df.drop_duplicates())\n",
    "print('=--------------------------------')\n",
    "# 查看重复(可以查看具体列)\n",
    "print(df.duplicated(subset=['name']))\n",
    "\n",
    "# 元素替换\n",
    "print(df.replace('张三','张三三'))"
   ],
   "id": "6bb999f16e270065",
   "outputs": [
    {
     "name": "stdout",
     "output_type": "stream",
     "text": [
      "id      5\n",
      "age     5\n",
      "name    5\n",
      "dtype: int64\n",
      "id  age  name\n",
      "1   10   张三      2\n",
      "2   20   李四      1\n",
      "3   30   王五      1\n",
      "5   50   王物流     1\n",
      "Name: count, dtype: int64\n",
      "   id  age name\n",
      "a   1   10   张三\n",
      "b   2   20   李四\n",
      "c   3   30   王五\n",
      "e   5   50  王物流\n",
      "=--------------------------------\n",
      "a    False\n",
      "b    False\n",
      "c    False\n",
      "d     True\n",
      "e    False\n",
      "dtype: bool\n",
      "   id  age name\n",
      "a   1   10  张三三\n",
      "b   2   20   李四\n",
      "c   3   30   王五\n",
      "d   1   10  张三三\n",
      "e   5   50  王物流\n"
     ]
    }
   ],
   "execution_count": 19
  },
  {
   "metadata": {
    "ExecuteTime": {
     "end_time": "2025-10-01T08:05:55.178186Z",
     "start_time": "2025-10-01T08:05:55.160714Z"
    }
   },
   "cell_type": "code",
   "source": [
    "# 按索引排序\n",
    "print(df.sort_index(ascending=False))\n",
    "# 按列排序\n",
    "print(df.sort_values(by='age'))\n",
    "\n",
    "\n",
    "df = pd.DataFrame({\n",
    "    \"id\":[1,2,3,4,5],\n",
    "    \"name\":[\"张三\",\"李四\",\"王五\",\"张三\",\"王物流\"],\n",
    "    \"age\":[10,20,30,40,50]\n",
    "},index=['a','b','c','d','e'],columns=['id','age','name'])\n",
    "# 多列排序\n",
    "print(df.sort_values(by=['name','age'], ascending=[True, False]))\n",
    "\n",
    "# 取最大的几行, columns 排序依据\n",
    "print(df.nlargest(2,columns=['id','age']))\n",
    "\n",
    "# 取最小的几行\n",
    "print(df.nsmallest(2,columns=['id','age']))\n"
   ],
   "id": "36e22ec4d1c50b26",
   "outputs": [
    {
     "name": "stdout",
     "output_type": "stream",
     "text": [
      "   id  age name\n",
      "e   5   50  王物流\n",
      "d   4   40   张三\n",
      "c   3   30   王五\n",
      "b   2   20   李四\n",
      "a   1   10   张三\n",
      "   id  age name\n",
      "a   1   10   张三\n",
      "b   2   20   李四\n",
      "c   3   30   王五\n",
      "d   4   40   张三\n",
      "e   5   50  王物流\n",
      "   id  age name\n",
      "d   4   40   张三\n",
      "a   1   10   张三\n",
      "b   2   20   李四\n",
      "c   3   30   王五\n",
      "e   5   50  王物流\n",
      "   id  age name\n",
      "e   5   50  王物流\n",
      "d   4   40   张三\n",
      "   id  age name\n",
      "a   1   10   张三\n",
      "b   2   20   李四\n"
     ]
    }
   ],
   "execution_count": 30
  }
 ],
 "metadata": {
  "kernelspec": {
   "display_name": "Python 3",
   "language": "python",
   "name": "python3"
  },
  "language_info": {
   "codemirror_mode": {
    "name": "ipython",
    "version": 2
   },
   "file_extension": ".py",
   "mimetype": "text/x-python",
   "name": "python",
   "nbconvert_exporter": "python",
   "pygments_lexer": "ipython2",
   "version": "2.7.6"
  }
 },
 "nbformat": 4,
 "nbformat_minor": 5
}
