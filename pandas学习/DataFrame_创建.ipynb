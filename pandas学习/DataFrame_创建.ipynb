{
 "cells": [
  {
   "cell_type": "code",
   "id": "initial_id",
   "metadata": {
    "collapsed": true,
    "ExecuteTime": {
     "end_time": "2025-10-01T07:21:39.219915Z",
     "start_time": "2025-10-01T07:21:36.456515Z"
    }
   },
   "source": [
    "import pandas as pd\n",
    "import numpy as np\n",
    "\n",
    "\n",
    "# 通过Series创建\n",
    "s1 = pd.Series([1,2,3,4,5])\n",
    "s2 = pd.Series([6,7,8,9,10])\n",
    "df = pd.DataFrame({\"第一列\":s1,\"第二列\":s2})\n",
    "print(df)\n",
    "\n",
    "# 通过字典创建\n",
    "df = pd.DataFrame({\n",
    "    \"id\":[1,2,3,4,5],\n",
    "    \"name\":[\"张三\",\"李四\",\"王五\",\"张三三\",\"王物流\"],\n",
    "    \"age\":[10,20,30,40,50]\n",
    "},index=['a','b','c','d','e'],columns=['id','age','name'])\n",
    "\n",
    "print(df)"
   ],
   "outputs": [
    {
     "name": "stdout",
     "output_type": "stream",
     "text": [
      "   第一列  第二列\n",
      "0    1    6\n",
      "1    2    7\n",
      "2    3    8\n",
      "3    4    9\n",
      "4    5   10\n",
      "   id  age name\n",
      "a   1   10   张三\n",
      "b   2   20   李四\n",
      "c   3   30   王五\n",
      "d   4   40  张三三\n",
      "e   5   50  王物流\n"
     ]
    }
   ],
   "execution_count": 1
  },
  {
   "metadata": {
    "ExecuteTime": {
     "end_time": "2025-10-01T07:37:39.242594Z",
     "start_time": "2025-10-01T07:37:39.147194Z"
    }
   },
   "cell_type": "code",
   "source": [
    "# 行索引\n",
    "print(df.index)\n",
    "\n",
    "# 列标签\n",
    "print(df.columns)\n",
    "\n",
    "# 值\n",
    "print(df.values)\n",
    "\n",
    "# 维度\n",
    "print(df.ndim)\n",
    "\n",
    "# 数据类型\n",
    "print(df.dtypes)\n",
    "\n",
    "# 形状\n",
    "print(df.shape)\n",
    "\n",
    "# 元素个数\n",
    "print(df.size)\n",
    "\n",
    "# 转置\n",
    "print(df.T)\n",
    "\n",
    "\n",
    "print(\"============================\")\n",
    "# 显式索引(某行)\n",
    "print(df.loc['a'])\n",
    "# 隐式索引(某行)\n",
    "print(df.iloc[1])\n",
    "print(\"============================\")\n",
    "# 显式索引(某列)\n",
    "print(df.loc[:,'name'])\n",
    "# 隐式索引（某列）\n",
    "print(df.iloc[:, 0])\n",
    "print(df['name'])\n",
    "print(df.name)\n",
    "# 获取多列数据\n",
    "print(df[['name','age']])\n",
    "\n",
    "print(\"============================\")\n",
    "# 获取单个元素\n",
    "print(df.at['a','name'])\n",
    "print(df.iat[0,2])\n",
    "print(df.loc['a','name'])\n",
    "print(df.iloc[0,2])\n",
    "\n"
   ],
   "id": "5f652ed645ecb2c0",
   "outputs": [
    {
     "name": "stdout",
     "output_type": "stream",
     "text": [
      "Index(['a', 'b', 'c', 'd', 'e'], dtype='object')\n",
      "Index(['id', 'age', 'name'], dtype='object')\n",
      "[[1 10 '张三']\n",
      " [2 20 '李四']\n",
      " [3 30 '王五']\n",
      " [4 40 '张三三']\n",
      " [5 50 '王物流']]\n",
      "2\n",
      "id       int64\n",
      "age      int64\n",
      "name    object\n",
      "dtype: object\n",
      "(5, 3)\n",
      "15\n",
      "       a   b   c    d    e\n",
      "id     1   2   3    4    5\n",
      "age   10  20  30   40   50\n",
      "name  张三  李四  王五  张三三  王物流\n",
      "============================\n",
      "id       1\n",
      "age     10\n",
      "name    张三\n",
      "Name: a, dtype: object\n",
      "id       2\n",
      "age     20\n",
      "name    李四\n",
      "Name: b, dtype: object\n",
      "============================\n",
      "a     张三\n",
      "b     李四\n",
      "c     王五\n",
      "d    张三三\n",
      "e    王物流\n",
      "Name: name, dtype: object\n",
      "a    1\n",
      "b    2\n",
      "c    3\n",
      "d    4\n",
      "e    5\n",
      "Name: id, dtype: int64\n",
      "a     张三\n",
      "b     李四\n",
      "c     王五\n",
      "d    张三三\n",
      "e    王物流\n",
      "Name: name, dtype: object\n",
      "a     张三\n",
      "b     李四\n",
      "c     王五\n",
      "d    张三三\n",
      "e    王物流\n",
      "Name: name, dtype: object\n",
      "  name  age\n",
      "a   张三   10\n",
      "b   李四   20\n",
      "c   王五   30\n",
      "d  张三三   40\n",
      "e  王物流   50\n",
      "============================\n",
      "张三\n",
      "张三\n",
      "张三\n",
      "张三\n"
     ]
    }
   ],
   "execution_count": 27
  },
  {
   "metadata": {
    "ExecuteTime": {
     "end_time": "2025-10-01T07:40:32.605347Z",
     "start_time": "2025-10-01T07:40:32.541227Z"
    }
   },
   "cell_type": "code",
   "source": [
    "\n",
    "\n",
    "print('=========================')\n",
    "print(df[df.age > 20])\n",
    "print(df[(df.id<4) & (df.age >= 20)])\n",
    "\n"
   ],
   "id": "76ef37c3fab3df1b",
   "outputs": [
    {
     "name": "stdout",
     "output_type": "stream",
     "text": [
      "   id  age name\n",
      "a   1   10   张三\n",
      "b   2   20   李四\n",
      "c   3   30   王五\n",
      "d   4   40  张三三\n",
      "e   5   50  王物流\n",
      "   id  age name\n",
      "a   1   10   张三\n",
      "b   2   20   李四\n",
      "   id  age name\n",
      "a   1   10   张三\n",
      "b   2   20   李四\n",
      "c   3   30   王五\n",
      "d   4   40  张三三\n",
      "e   5   50  王物流\n",
      "   id  age name\n",
      "d   4   40  张三三\n",
      "e   5   50  王物流\n",
      "=========================\n",
      "   id  age name\n",
      "c   3   30   王五\n",
      "d   4   40  张三三\n",
      "e   5   50  王物流\n",
      "   id  age name\n",
      "b   2   20   李四\n",
      "c   3   30   王五\n",
      "   id  age name\n",
      "a   1   10   张三\n",
      "d   4   40  张三三\n",
      "e   5   50  王物流\n"
     ]
    }
   ],
   "execution_count": 33
  }
 ],
 "metadata": {
  "kernelspec": {
   "display_name": "Python 3",
   "language": "python",
   "name": "python3"
  },
  "language_info": {
   "codemirror_mode": {
    "name": "ipython",
    "version": 2
   },
   "file_extension": ".py",
   "mimetype": "text/x-python",
   "name": "python",
   "nbconvert_exporter": "python",
   "pygments_lexer": "ipython2",
   "version": "2.7.6"
  }
 },
 "nbformat": 4,
 "nbformat_minor": 5
}
