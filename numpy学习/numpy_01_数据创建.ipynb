{
 "cells": [
  {
   "metadata": {
    "ExecuteTime": {
     "end_time": "2025-09-28T11:37:03.283711Z",
     "start_time": "2025-09-28T11:37:02.536082Z"
    }
   },
   "cell_type": "markdown",
   "source": "# 引入numpy",
   "id": "639de66e7b12becb"
  },
  {
   "metadata": {
    "ExecuteTime": {
     "end_time": "2025-09-28T11:38:17.748909Z",
     "start_time": "2025-09-28T11:38:17.744842Z"
    }
   },
   "cell_type": "code",
   "source": "import numpy as np",
   "id": "36f9d3c70beff9d0",
   "outputs": [],
   "execution_count": 6
  },
  {
   "metadata": {},
   "cell_type": "markdown",
   "source": "## numpy中的数据创建",
   "id": "63c8017b9257c690"
  },
  {
   "metadata": {
    "ExecuteTime": {
     "end_time": "2025-09-28T11:44:28.202398Z",
     "start_time": "2025-09-28T11:44:28.197395Z"
    }
   },
   "cell_type": "code",
   "source": [
    "# 0维数组（数字）\n",
    "arr_d_0 = np.array(5)\n",
    "print(arr_d_0)\n",
    "\n",
    "# 1维数组\n",
    "arr_d_1 = np.array([1,2,3])\n",
    "print(arr_d_1)\n",
    "\n",
    "# 隐式类型转换--数据的同质性\n",
    "arr_d_1_1 = np.array([1,'hello'])\n",
    "print(arr_d_1_1)\n",
    "arr_d_1_2 = np.array([1,1.5])\n",
    "print(arr_d_1_2)\n",
    "\n",
    "# 2维数组\n",
    "arr_d_2 = np.array([[1,2,3],[4,5,6]])\n",
    "print(arr_d_2)\n"
   ],
   "id": "b6fcd8c9999cf760",
   "outputs": [
    {
     "name": "stdout",
     "output_type": "stream",
     "text": [
      "5\n",
      "[1 2 3]\n",
      "['1' 'hello']\n",
      "[1.  1.5]\n",
      "[[1 2 3]\n",
      " [4 5 6]]\n"
     ]
    }
   ],
   "execution_count": 9
  },
  {
   "metadata": {},
   "cell_type": "markdown",
   "source": "# ndarry 的基本属性",
   "id": "5f8a9853e7efe86f"
  },
  {
   "metadata": {
    "ExecuteTime": {
     "end_time": "2025-09-28T11:49:00.141793Z",
     "start_time": "2025-09-28T11:49:00.133775Z"
    }
   },
   "cell_type": "code",
   "source": [
    "# 数据维度\n",
    "print(\"arr_d_0的数据维度是：\",arr_d_0.ndim)\n",
    "print(\"arr_d_1的数据维度是：\",arr_d_1.ndim)\n",
    "print(\"arr_d_2的数据维度是：\",arr_d_2.ndim)\n",
    "\n",
    "# 数据的形状（几行几列）\n",
    "print(\"arr_d_2的数据形状是：\",arr_d_2.shape)\n",
    "\n",
    "# 数据的总数量\n",
    "print(\"arr_d_2的数据总数量是：\", arr_d_2.size)\n",
    "\n",
    "# 数据的类型\n",
    "print(\"arr_d_1_2的数据类型是：\", arr_d_1_2.dtype)"
   ],
   "id": "4e9b0add715c4a7b",
   "outputs": [
    {
     "name": "stdout",
     "output_type": "stream",
     "text": [
      "arr_d_0的数据维度是： 0\n",
      "arr_d_1的数据维度是： 1\n",
      "arr_d_2的数据维度是： 2\n",
      "arr_d_2的数据形状是： (2, 3)\n",
      "arr_d_2的数据总数量是： 6\n",
      "arr_d_1_2的数据类型是： int64\n"
     ]
    }
   ],
   "execution_count": 12
  },
  {
   "metadata": {},
   "cell_type": "markdown",
   "source": "# ndarray 高级属性",
   "id": "8e509603633eabff"
  },
  {
   "metadata": {
    "ExecuteTime": {
     "end_time": "2025-09-28T12:29:10.103041Z",
     "start_time": "2025-09-28T12:29:10.095255Z"
    }
   },
   "cell_type": "code",
   "source": [
    "# 数组转置\n",
    "print(\"arr_d_2的转置是：\",arr_d_2.T)\n",
    "\n",
    "# 单个元素占用的字节数\n",
    "print(\"arr_d_2的单个元素占用字节数是：\",arr_d_2.itemsize)\n",
    "\n",
    "# 总内容占用量\n",
    "print(\"arr_d_2占用的字节总数是：\", arr_d_2.nbytes)"
   ],
   "id": "7c36a6c02afa5d8d",
   "outputs": [
    {
     "name": "stdout",
     "output_type": "stream",
     "text": [
      "arr_d_2的转置是： [[1 4]\n",
      " [2 5]\n",
      " [3 6]]\n",
      "arr_d_2的单个元素占用字节数是： 8\n",
      "arr_d_2占用的字节总数是： 48\n"
     ]
    }
   ],
   "execution_count": 21
  },
  {
   "metadata": {},
   "cell_type": "markdown",
   "source": "# ndarray的创建方式",
   "id": "40f3d6f7066026ac"
  },
  {
   "metadata": {
    "ExecuteTime": {
     "end_time": "2025-09-28T12:38:11.961172Z",
     "start_time": "2025-09-28T12:38:11.953800Z"
    }
   },
   "cell_type": "code",
   "source": [
    "# 基础初始化\n",
    "array = np.array([1,2,3],dtype=int)\n",
    "print(array)\n",
    "# 数据拷贝（深拷贝）\n",
    "array1 = np.copy(array)\n",
    "print(array1)\n",
    "array1[0] = 5\n",
    "print(array1)\n",
    "print(array)\n",
    "# 预定义形状,传入的第一个参数是数组的shape，以元组的形式传入，代表几行几列\n",
    "array = np.zeros((3,4))\n",
    "print(array)\n",
    "array1 = np.ones((10,),dtype=int)\n",
    "print(array1)\n",
    "array2 = np.full((3,4),'hello')\n",
    "print(array2)"
   ],
   "id": "6c76aaebc472f5d9",
   "outputs": [
    {
     "name": "stdout",
     "output_type": "stream",
     "text": [
      "[1 2 3]\n",
      "[1 2 3]\n",
      "[5 2 3]\n",
      "[1 2 3]\n",
      "[[0. 0. 0. 0.]\n",
      " [0. 0. 0. 0.]\n",
      " [0. 0. 0. 0.]]\n",
      "[1 1 1 1 1 1 1 1 1 1]\n",
      "[['hello' 'hello' 'hello' 'hello']\n",
      " ['hello' 'hello' 'hello' 'hello']\n",
      " ['hello' 'hello' 'hello' 'hello']]\n"
     ]
    }
   ],
   "execution_count": 32
  },
  {
   "metadata": {
    "ExecuteTime": {
     "end_time": "2025-09-28T13:59:03.433189Z",
     "start_time": "2025-09-28T13:59:03.425290Z"
    }
   },
   "cell_type": "code",
   "source": [
    "# 已知下限，上限，步进长度（注意这里生成的时候是左闭右开）\n",
    "array = np.arange(1,10,1)\n",
    "print(array)\n",
    "\n",
    "# 已知下限，上限，数据总数，或根据上下限和数据分数，对数据空间进行等分\n",
    "array = np.linspace(1,10,5)\n",
    "print(array)"
   ],
   "id": "f806a486cd62f7e3",
   "outputs": [
    {
     "name": "stdout",
     "output_type": "stream",
     "text": [
      "[1 2 3 4 5 6 7 8 9]\n",
      "[ 1.    3.25  5.5   7.75 10.  ]\n"
     ]
    }
   ],
   "execution_count": 36
  },
  {
   "metadata": {
    "ExecuteTime": {
     "end_time": "2025-09-29T01:23:47.573010Z",
     "start_time": "2025-09-29T01:23:47.568006Z"
    }
   },
   "cell_type": "code",
   "source": [
    "# 对数空间，返回在对数空间内均匀间隔的数列  2^0-2^4，对数空间均匀分为5份，也就是2^0,2^1,2^2,2^3,2^4，即在其指数上应该是等差分布的\n",
    "array = np.logspace(0,4,base=2,num=5)\n",
    "# 和下面的写法是等效的\n",
    "array = np.logspace(0,4,5, base=2)\n",
    "print(array)"
   ],
   "id": "e1a9986659c2335f",
   "outputs": [
    {
     "name": "stdout",
     "output_type": "stream",
     "text": [
      "[ 1.  2.  4.  8. 16.]\n"
     ]
    }
   ],
   "execution_count": 38
  },
  {
   "metadata": {},
   "cell_type": "markdown",
   "source": "# 特殊矩阵生成方式",
   "id": "a96a52e4505ea2b5"
  },
  {
   "metadata": {
    "ExecuteTime": {
     "end_time": "2025-09-29T05:24:28.399032Z",
     "start_time": "2025-09-29T05:24:28.390340Z"
    }
   },
   "cell_type": "code",
   "source": [
    "# 生成单位矩阵\n",
    "array = np.eye(3)\n",
    "print(array)\n",
    "\n",
    "# 生成对角矩阵\n",
    "array = np.diag([1,2,3])\n",
    "print(array)\n",
    "\n",
    "# 提取主对角线的元素\n",
    "array = np.arange(1,10,1).reshape((3,3))\n",
    "array1 = np.diag(array)\n",
    "print(array1)\n",
    "\n",
    "# 提取副对角线上的元素,k代表偏移量\n",
    "array1 = np.diag(array,k=-1)\n",
    "print(array1)\n",
    "\n",
    "# 生成0-1之间的随机数（均匀分布）\n",
    "array = np.random.rand(3,4)\n",
    "print(array)\n",
    "\n",
    "# 生成指定范围内的随机数\n",
    "array = np.random.uniform(3,5,(3,4))\n",
    "print(array)\n",
    "\n",
    "# 生成指定范围内的随机整数\n",
    "array = np.random.randint(3,10,(3,4))\n",
    "print(array)\n",
    "\n",
    "# 生成随机数（正态分布）\n",
    "array = np.random.randn(3,4)\n",
    "print(array)\n",
    "\n",
    "# 设置随机数种子,随机数生成时会使用该种子，每次生成的随机数序列保持一致\n",
    "np.random.seed(10)\n",
    "array = np.random.randint(1,10,(2,5))\n",
    "print(array)"
   ],
   "id": "f7b71e0a7fbb9f1a",
   "outputs": [
    {
     "name": "stdout",
     "output_type": "stream",
     "text": [
      "[[1. 0. 0.]\n",
      " [0. 1. 0.]\n",
      " [0. 0. 1.]]\n",
      "[[1 0 0]\n",
      " [0 2 0]\n",
      " [0 0 3]]\n",
      "[1 5 9]\n",
      "[4 8]\n",
      "[[0.49758556 0.2670731  0.77903442 0.13809544]\n",
      " [0.9325291  0.90345913 0.43132077 0.00179876]\n",
      " [0.52355134 0.17350579 0.20183266 0.7054101 ]]\n",
      "[[3.7143404  4.35549654 3.76743892 3.60671122]\n",
      " [3.42521717 4.97001374 4.18682733 3.206445  ]\n",
      " [3.24549703 4.16889849 3.76257578 4.22191806]]\n",
      "[[6 6 9 3]\n",
      " [4 4 3 8]\n",
      " [8 7 7 8]]\n",
      "[[ 0.41020754 -0.18580567 -0.61218616 -0.55375452]\n",
      " [ 1.0929086  -2.15789383 -1.0896814  -1.23073772]\n",
      " [ 1.20746668 -0.97659195 -1.60649766 -2.44155179]]\n",
      "[[5 1 2 1 2]\n",
      " [9 1 9 7 5]]\n"
     ]
    }
   ],
   "execution_count": 52
  }
 ],
 "metadata": {
  "kernelspec": {
   "display_name": "Python 3",
   "language": "python",
   "name": "python3"
  },
  "language_info": {
   "codemirror_mode": {
    "name": "ipython",
    "version": 2
   },
   "file_extension": ".py",
   "mimetype": "text/x-python",
   "name": "python",
   "nbconvert_exporter": "python",
   "pygments_lexer": "ipython2",
   "version": "2.7.6"
  }
 },
 "nbformat": 4,
 "nbformat_minor": 5
}
