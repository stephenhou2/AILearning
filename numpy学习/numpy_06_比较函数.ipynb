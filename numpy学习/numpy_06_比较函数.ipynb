{
 "cells": [
  {
   "cell_type": "code",
   "id": "initial_id",
   "metadata": {
    "collapsed": true,
    "ExecuteTime": {
     "end_time": "2025-09-29T09:02:46.325298Z",
     "start_time": "2025-09-29T09:02:46.267376Z"
    }
   },
   "source": [
    "import numpy as np\n",
    "\n",
    "# 是否大于\n",
    "print(np.greater([1,2,3,4,5,6],3))\n",
    "\n",
    "# 是否小于\n",
    "print(np.less([1,2,3,4,5,6],3))\n",
    "\n",
    "# 是否等于\n",
    "print(np.equal([1,2,3,4,5,6],3))\n",
    "\n",
    "print(\"========================================\")\n",
    "\n",
    "# 逻辑与\n",
    "print(np.logical_and([0,1,1],[0,0,1]))\n",
    "\n",
    "# 逻辑或\n",
    "print(np.logical_or([0,1,1],[0,0,1]))\n",
    "\n",
    "# 逻辑非\n",
    "print(np.logical_not([0,1,1]))\n",
    "\n",
    "# 逻辑异或\n",
    "print(np.logical_xor([0,1,1],[0,0,1]))\n",
    "\n",
    "print(\"========================================\")\n",
    "\n",
    "# 检查是否有true\n",
    "print(np.any([0,1,0,0,0]))\n",
    "\n",
    "# 检查是否全为true\n",
    "print(np.all([0,1,1,1,1,1]))\n",
    "\n",
    "# 自定义条件  入参：条件，符合条件时的取值，不合符条件时的取值   类似三目运算\n",
    "arr = np.array([1,2,3,4,5,6])\n",
    "print(np.where(arr>3, arr, 0))\n",
    "\n",
    "arr = np.random.randint(10,100,30)\n",
    "print(arr)\n",
    "print(np.select([arr<60,(arr>=60) & (arr<=80), arr > 80],[\"不及格\",\"良好\",\"优秀\"],default=\"未知\"))\n"
   ],
   "outputs": [
    {
     "name": "stdout",
     "output_type": "stream",
     "text": [
      "[False False False  True  True  True]\n",
      "[ True  True False False False False]\n",
      "[False False  True False False False]\n",
      "========================================\n",
      "[False False  True]\n",
      "[False  True  True]\n",
      "[ True False False]\n",
      "[False  True False]\n",
      "========================================\n",
      "True\n",
      "False\n",
      "[0 0 0 4 5 6]\n",
      "[34 15 38 37 11 74 99 49 73 86 95 40 22 59 16 13 66 96 63 97 21 16 97 75\n",
      " 16 69 10 36 13 25]\n",
      "['不及格' '不及格' '不及格' '不及格' '不及格' '良好' '优秀' '不及格' '良好' '优秀' '优秀' '不及格' '不及格'\n",
      " '不及格' '不及格' '不及格' '良好' '优秀' '良好' '优秀' '不及格' '不及格' '优秀' '良好' '不及格' '良好'\n",
      " '不及格' '不及格' '不及格' '不及格']\n"
     ]
    }
   ],
   "execution_count": 9
  }
 ],
 "metadata": {
  "kernelspec": {
   "display_name": "Python 3",
   "language": "python",
   "name": "python3"
  },
  "language_info": {
   "codemirror_mode": {
    "name": "ipython",
    "version": 2
   },
   "file_extension": ".py",
   "mimetype": "text/x-python",
   "name": "python",
   "nbconvert_exporter": "python",
   "pygments_lexer": "ipython2",
   "version": "2.7.6"
  }
 },
 "nbformat": 4,
 "nbformat_minor": 5
}
