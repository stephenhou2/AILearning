{
 "cells": [
  {
   "metadata": {
    "collapsed": true
   },
   "cell_type": "markdown",
   "source": "# ndarray 运算",
   "id": "719b34495fb36366"
  },
  {
   "metadata": {
    "ExecuteTime": {
     "end_time": "2025-09-29T05:59:11.733748Z",
     "start_time": "2025-09-29T05:59:11.724119Z"
    }
   },
   "cell_type": "code",
   "source": [
    "import numpy as np\n",
    "\n",
    "\n",
    "# 一维\n",
    "a = np.array([1,2,3])\n",
    "b = np.array([4,5,6])\n",
    "\n",
    "print(a + b)\n",
    "print(a - b)\n",
    "print(a * b)\n",
    "print(a / b)\n",
    "\n"
   ],
   "id": "351f25f60a5d7c5f",
   "outputs": [
    {
     "name": "stdout",
     "output_type": "stream",
     "text": [
      "[5 7 9]\n",
      "[-3 -3 -3]\n",
      "[ 4 10 18]\n",
      "[0.25 0.4  0.5 ]\n"
     ]
    }
   ],
   "execution_count": 3
  },
  {
   "metadata": {
    "ExecuteTime": {
     "end_time": "2025-09-29T06:08:26.710567Z",
     "start_time": "2025-09-29T06:08:26.705041Z"
    }
   },
   "cell_type": "code",
   "source": [
    "# 二维\n",
    "\n",
    "a = np.array([[1,2,3],[4,5,6],[7,8,9]])\n",
    "b = np.array([[4,5,6],[7,8,9],[1,2,3]])\n",
    "\n",
    "\n",
    "print(a + b)\n",
    "print(a - b)\n",
    "print(a * b)\n",
    "print(a / b)"
   ],
   "id": "267f9dc5c0e169cf",
   "outputs": [
    {
     "name": "stdout",
     "output_type": "stream",
     "text": [
      "[[ 5  7  9]\n",
      " [11 13 15]\n",
      " [ 8 10 12]]\n",
      "[[-3 -3 -3]\n",
      " [-3 -3 -3]\n",
      " [ 6  6  6]]\n",
      "[[ 4 10 18]\n",
      " [28 40 54]\n",
      " [ 7 16 27]]\n",
      "[[0.25       0.4        0.5       ]\n",
      " [0.57142857 0.625      0.66666667]\n",
      " [7.         4.         3.        ]]\n"
     ]
    }
   ],
   "execution_count": 11
  },
  {
   "metadata": {
    "ExecuteTime": {
     "end_time": "2025-09-29T06:13:00.907032Z",
     "start_time": "2025-09-29T06:13:00.899245Z"
    }
   },
   "cell_type": "code",
   "source": [
    "# 行列扩展\n",
    "c = np.array([1,2,3])  # 一行[1,2,3]\n",
    "d = np.array([[4],[5],[6]]) # 一列[4,\n",
    "#                                5,\n",
    "#                                6]\n",
    "\n",
    "print(c + d)\n",
    "\n",
    "'''\n",
    "c ->  1,2,3\n",
    "      1,2,3\n",
    "      1,2,3\n",
    "\n",
    "d ->  4,4,4\n",
    "      5,5,5\n",
    "      6,6,6\n",
    "'''"
   ],
   "id": "693e19402fdc2bce",
   "outputs": [
    {
     "name": "stdout",
     "output_type": "stream",
     "text": [
      "[[5 6 7]\n",
      " [6 7 8]\n",
      " [7 8 9]]\n"
     ]
    },
    {
     "data": {
      "text/plain": [
       "'\\nc ->  1,2,3\\n      1,2,3\\n      1,2,3\\n\\nd ->  4,4,4\\n      5,5,5\\n      6,6,6\\n'"
      ]
     },
     "execution_count": 14,
     "metadata": {},
     "output_type": "execute_result"
    }
   ],
   "execution_count": 14
  },
  {
   "metadata": {
    "ExecuteTime": {
     "end_time": "2025-09-29T06:13:46.640225Z",
     "start_time": "2025-09-29T06:13:46.634058Z"
    }
   },
   "cell_type": "code",
   "source": [
    "# 直接和标量做运算等于在每个元素上都与该标量做运算\n",
    "print(a + 5)\n",
    "print(a - 5)\n",
    "print(a * 5)\n",
    "print(a / 5)\n",
    "\n",
    "# 和原生数组、元组做运算等于每一行和该数组、元组做运算\n",
    "print(a + (2,3,4))\n",
    "print(a + [2,3,4])"
   ],
   "id": "bc076ae7ae9dec1f",
   "outputs": [
    {
     "name": "stdout",
     "output_type": "stream",
     "text": [
      "[[ 6  7  8]\n",
      " [ 9 10 11]\n",
      " [12 13 14]]\n",
      "[[-4 -3 -2]\n",
      " [-1  0  1]\n",
      " [ 2  3  4]]\n",
      "[[ 5 10 15]\n",
      " [20 25 30]\n",
      " [35 40 45]]\n",
      "[[0.2 0.4 0.6]\n",
      " [0.8 1.  1.2]\n",
      " [1.4 1.6 1.8]]\n",
      "[[ 3  5  7]\n",
      " [ 6  8 10]\n",
      " [ 9 11 13]]\n",
      "[[ 3  5  7]\n",
      " [ 6  8 10]\n",
      " [ 9 11 13]]\n"
     ]
    }
   ],
   "execution_count": 15
  },
  {
   "metadata": {},
   "cell_type": "markdown",
   "source": "# 矩阵运算",
   "id": "acd65b388bfff65a"
  },
  {
   "metadata": {},
   "cell_type": "code",
   "outputs": [],
   "execution_count": null,
   "source": [
    "# 点积运算\n",
    "print(a @ b)\n",
    "print(np.dot(a,b))"
   ],
   "id": "46076e59242217ee"
  }
 ],
 "metadata": {
  "kernelspec": {
   "display_name": "Python 3",
   "language": "python",
   "name": "python3"
  },
  "language_info": {
   "codemirror_mode": {
    "name": "ipython",
    "version": 2
   },
   "file_extension": ".py",
   "mimetype": "text/x-python",
   "name": "python",
   "nbconvert_exporter": "python",
   "pygments_lexer": "ipython2",
   "version": "2.7.6"
  }
 },
 "nbformat": 4,
 "nbformat_minor": 5
}
