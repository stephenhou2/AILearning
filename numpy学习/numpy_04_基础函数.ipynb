{
 "cells": [
  {
   "metadata": {
    "collapsed": true
   },
   "cell_type": "markdown",
   "source": "# 基本函数",
   "id": "c8d9d42f5a6b84a7"
  },
  {
   "metadata": {
    "ExecuteTime": {
     "end_time": "2025-09-29T07:45:40.982535Z",
     "start_time": "2025-09-29T07:45:40.975312Z"
    }
   },
   "cell_type": "code",
   "source": [
    "import numpy as np\n",
    "\n",
    "# 平方根\n",
    "arr = np.sqrt([1,4,9])\n",
    "print(arr)\n",
    "\n",
    "# 指数函数（以e为底）\n",
    "arr = np.exp([1,2])\n",
    "print(arr)\n",
    "\n",
    "# 幂函数\n",
    "arr = np.power([1,2,3],2)\n",
    "print(arr)\n",
    "\n",
    "# 自然对数函数（以e为底）\n",
    "arr = np.log([3])\n",
    "print(arr)\n",
    "\n",
    "# 以10为底对数函数\n",
    "arr = np.log10([100])\n",
    "print(arr)\n",
    "\n",
    "# 以10为底对数函数\n",
    "arr = np.log10([2])\n",
    "print(arr)\n",
    "\n",
    "# 以任意数字为底对数函数【需要自己转换】  原理是换底公式：log_a(b) = log_c(b) / log_c(a)\n",
    "# 下面=log3(5)  以3为底求5的对数\n",
    "arr = np.log(5) / np.log(3)\n",
    "print(arr)\n",
    "\n",
    "\n",
    "# 正余弦(入参为弧度)\n",
    "arr = np.sin(30)\n",
    "print(arr)\n",
    "arr = np.sin(np.pi/6)\n",
    "print(arr)\n",
    "\n",
    "\n",
    "# 绝对值\n",
    "arr = np.array([-1,-2.5,12.1,4.7])\n",
    "print(np.abs(arr))\n",
    "\n",
    "# 四舍五入\n",
    "print(np.round(arr))\n",
    "\n",
    "# 向上取整\n",
    "print(np.ceil(arr))\n",
    "\n",
    "# 向下取整\n",
    "print(np.floor(arr))"
   ],
   "id": "f78a5a44c7560a97",
   "outputs": [
    {
     "name": "stdout",
     "output_type": "stream",
     "text": [
      "[1. 2. 3.]\n",
      "[2.71828183 7.3890561 ]\n",
      "[1 4 9]\n",
      "[1.09861229]\n",
      "[2.]\n",
      "[0.30103]\n",
      "1.4649735207179269\n",
      "-0.9880316240928618\n",
      "0.49999999999999994\n",
      "[ 1.   2.5 12.1  4.7]\n",
      "[-1. -2. 12.  5.]\n",
      "[-1. -2. 13.  5.]\n",
      "[-1. -3. 12.  4.]\n"
     ]
    }
   ],
   "execution_count": 12
  }
 ],
 "metadata": {
  "kernelspec": {
   "display_name": "Python 3",
   "language": "python",
   "name": "python3"
  },
  "language_info": {
   "codemirror_mode": {
    "name": "ipython",
    "version": 2
   },
   "file_extension": ".py",
   "mimetype": "text/x-python",
   "name": "python",
   "nbconvert_exporter": "python",
   "pygments_lexer": "ipython2",
   "version": "2.7.6"
  }
 },
 "nbformat": 4,
 "nbformat_minor": 5
}
