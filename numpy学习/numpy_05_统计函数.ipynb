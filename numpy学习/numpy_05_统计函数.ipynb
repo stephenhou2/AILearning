{
 "cells": [
  {
   "cell_type": "code",
   "id": "initial_id",
   "metadata": {
    "collapsed": true,
    "ExecuteTime": {
     "end_time": "2025-09-29T08:20:39.860180Z",
     "start_time": "2025-09-29T08:20:39.853516Z"
    }
   },
   "source": [
    "import numpy as np\n",
    "\n",
    "# 求和\n",
    "print(np.sum([1, 2, 3, 4, 99]))\n",
    "print(np.sum([[1, 2, 3, 4, 99],[1,2,3,4,5]]))\n",
    "# 按列求和\n",
    "print(np.sum([[1, 2, 3, 4, 99],[1,2,3,4,5]],axis=0))\n",
    "# 按行求和\n",
    "print(np.sum([[1, 2, 3, 4, 99],[1,2,3,4,5]],axis=1))\n",
    "# 求累积和\n",
    "print(np.cumsum([1,2,3]))\n",
    "\n",
    "# 平均值\n",
    "print(np.mean([1, 2, 3, 4, 99]))\n",
    "\n",
    "# 中位数\n",
    "print(np.median([1, 2, 3, 4, 99]))\n",
    "\n",
    "# 标准差\n",
    "print(np.var([1, 2, 3, 4, 99]))\n",
    "\n",
    "# 方差\n",
    "print(np.std([1, 2, 3, 4, 99]))\n",
    "\n",
    "# 最小值\n",
    "print(np.min([1, 2, 3, 4, 99]))\n",
    "# 最小值索引（按列表顺序第一个）\n",
    "print(np.argmin([1, 1, 2, 3, 4, 99]))\n",
    "\n",
    "# 最大值\n",
    "print(np.max([1, 2, 3, 4, 99]))\n",
    "# 最大值索引（按列表顺序第一个）\n",
    "print(np.argmax([1, 2, 3, 4, 99,99]))\n",
    "\n",
    "# 百分位数，用于描述一组数据中特定百分比位置的值\n",
    "# 下面这个就是求出数组中位于25%的数字是多少\n",
    "print(np.percentile([1, 2, 3, 4, 99,99,99], 50))"
   ],
   "outputs": [
    {
     "name": "stdout",
     "output_type": "stream",
     "text": [
      "109\n",
      "124\n",
      "[  2   4   6   8 104]\n",
      "[109  15]\n",
      "[1 3 6]\n",
      "21.8\n",
      "3.0\n",
      "1490.96\n",
      "38.61295119516249\n",
      "1\n",
      "0\n",
      "99\n",
      "4\n",
      "4.0\n"
     ]
    }
   ],
   "execution_count": 18
  }
 ],
 "metadata": {
  "kernelspec": {
   "display_name": "Python 3",
   "language": "python",
   "name": "python3"
  },
  "language_info": {
   "codemirror_mode": {
    "name": "ipython",
    "version": 2
   },
   "file_extension": ".py",
   "mimetype": "text/x-python",
   "name": "python",
   "nbconvert_exporter": "python",
   "pygments_lexer": "ipython2",
   "version": "2.7.6"
  }
 },
 "nbformat": 4,
 "nbformat_minor": 5
}
