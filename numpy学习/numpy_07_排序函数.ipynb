{
 "cells": [
  {
   "cell_type": "code",
   "id": "initial_id",
   "metadata": {
    "collapsed": true,
    "ExecuteTime": {
     "end_time": "2025-09-29T09:13:09.591083Z",
     "start_time": "2025-09-29T09:13:09.583429Z"
    }
   },
   "source": [
    "import numpy as np\n",
    "\n",
    "np.random.seed(10)\n",
    "\n",
    "arr = np.random.randint(1,100,50)\n",
    "\n",
    "print(arr)\n",
    "#\n",
    "# # 使用python默认的排序\n",
    "# arr.sort()\n",
    "# print(arr)\n",
    "\n",
    "# 使用numpy排序\n",
    "# print(np.sort(arr))\n",
    "\n",
    "# 去重  默认去重的时候会自动排序\n",
    "print(np.unique(arr))\n",
    "\n",
    "# 数组拼接\n",
    "arr1 = np.array([1,2,3])\n",
    "arr2 = np.array([4,5,6])\n",
    "# 注意这里要使用元组\n",
    "print(np.concatenate((arr1, arr2)))\n",
    "\n",
    "\n",
    "# 数组切割\n",
    "arr = np.array([1,2,3,4,5,6])\n",
    "# 注意切割的分数一定要能被数组长度整除\n",
    "print(np.split(arr,3))\n"
   ],
   "outputs": [
    {
     "name": "stdout",
     "output_type": "stream",
     "text": [
      "[10 16 65 29 90 94 30  9 74  1 41 37 17 12 55 89 63 34 73 79 50 52 55 78\n",
      " 70 14 26 14 93 87 31 31 90 13 66 32 58 37 28 19 94 78 23 24 95 12 29 75\n",
      " 89 10]\n",
      "[ 1  9 10 12 13 14 16 17 19 23 24 26 28 29 30 31 32 34 37 41 50 52 55 58\n",
      " 63 65 66 70 73 74 75 78 79 87 89 90 93 94 95]\n",
      "[1 2 3 4 5 6]\n",
      "[array([1, 2]), array([3, 4]), array([5, 6])]\n"
     ]
    }
   ],
   "execution_count": 10
  }
 ],
 "metadata": {
  "kernelspec": {
   "display_name": "Python 3",
   "language": "python",
   "name": "python3"
  },
  "language_info": {
   "codemirror_mode": {
    "name": "ipython",
    "version": 2
   },
   "file_extension": ".py",
   "mimetype": "text/x-python",
   "name": "python",
   "nbconvert_exporter": "python",
   "pygments_lexer": "ipython2",
   "version": "2.7.6"
  }
 },
 "nbformat": 4,
 "nbformat_minor": 5
}
